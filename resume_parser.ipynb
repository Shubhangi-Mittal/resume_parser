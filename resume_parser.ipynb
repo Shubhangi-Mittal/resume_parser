{
  "nbformat": 4,
  "nbformat_minor": 0,
  "metadata": {
    "colab": {
      "provenance": []
    },
    "kernelspec": {
      "name": "python3",
      "display_name": "Python 3"
    },
    "language_info": {
      "name": "python"
    }
  },
  "cells": [
    {
      "cell_type": "code",
      "execution_count": null,
      "metadata": {
        "colab": {
          "base_uri": "https://localhost:8080/"
        },
        "id": "Ilbqx0e2M92h",
        "outputId": "014796ef-3f12-4b46-dd38-7dbc44b12d60"
      },
      "outputs": [
        {
          "output_type": "stream",
          "name": "stdout",
          "text": [
            "Looking in indexes: https://pypi.org/simple, https://us-python.pkg.dev/colab-wheels/public/simple/\n",
            "Collecting tika\n",
            "  Downloading tika-2.6.0.tar.gz (27 kB)\n",
            "  Preparing metadata (setup.py) ... \u001b[?25l\u001b[?25hdone\n",
            "Requirement already satisfied: setuptools in /usr/local/lib/python3.9/dist-packages (from tika) (67.6.1)\n",
            "Requirement already satisfied: requests in /usr/local/lib/python3.9/dist-packages (from tika) (2.27.1)\n",
            "Requirement already satisfied: idna<4,>=2.5 in /usr/local/lib/python3.9/dist-packages (from requests->tika) (3.4)\n",
            "Requirement already satisfied: charset-normalizer~=2.0.0 in /usr/local/lib/python3.9/dist-packages (from requests->tika) (2.0.12)\n",
            "Requirement already satisfied: urllib3<1.27,>=1.21.1 in /usr/local/lib/python3.9/dist-packages (from requests->tika) (1.26.15)\n",
            "Requirement already satisfied: certifi>=2017.4.17 in /usr/local/lib/python3.9/dist-packages (from requests->tika) (2022.12.7)\n",
            "Building wheels for collected packages: tika\n",
            "  Building wheel for tika (setup.py) ... \u001b[?25l\u001b[?25hdone\n",
            "  Created wheel for tika: filename=tika-2.6.0-py3-none-any.whl size=32641 sha256=e2cf0d0d1a350231de84288ef03d9c072b7d6ddd3dd348a6e285d6e6329a0652\n",
            "  Stored in directory: /root/.cache/pip/wheels/13/56/18/e752060632d32c39c9c4545e756dad281f8504dafcfac02b95\n",
            "Successfully built tika\n",
            "Installing collected packages: tika\n",
            "Successfully installed tika-2.6.0\n"
          ]
        }
      ],
      "source": [
        "!pip install tika"
      ]
    },
    {
      "cell_type": "code",
      "source": [
        "from tika import parser\n",
        "file =r'/content/candidate_042.pdf'\n",
        "file_data=parser.from_file(file)\n",
        "text=file_data['content']\n",
        "print(text)"
      ],
      "metadata": {
        "colab": {
          "base_uri": "https://localhost:8080/"
        },
        "id": "Jh9-EhVbNIwI",
        "outputId": "4ba24c2b-b04e-4603-e932-439c98fe87e6"
      },
      "execution_count": null,
      "outputs": [
        {
          "output_type": "stream",
          "name": "stderr",
          "text": [
            "2023-04-23 17:41:38,516 [MainThread  ] [INFO ]  Retrieving http://search.maven.org/remotecontent?filepath=org/apache/tika/tika-server-standard/2.6.0/tika-server-standard-2.6.0.jar to /tmp/tika-server.jar.\n",
            "INFO:tika.tika:Retrieving http://search.maven.org/remotecontent?filepath=org/apache/tika/tika-server-standard/2.6.0/tika-server-standard-2.6.0.jar to /tmp/tika-server.jar.\n",
            "2023-04-23 17:41:38,978 [MainThread  ] [INFO ]  Retrieving http://search.maven.org/remotecontent?filepath=org/apache/tika/tika-server-standard/2.6.0/tika-server-standard-2.6.0.jar.md5 to /tmp/tika-server.jar.md5.\n",
            "INFO:tika.tika:Retrieving http://search.maven.org/remotecontent?filepath=org/apache/tika/tika-server-standard/2.6.0/tika-server-standard-2.6.0.jar.md5 to /tmp/tika-server.jar.md5.\n",
            "2023-04-23 17:41:39,275 [MainThread  ] [WARNI]  Failed to see startup log message; retrying...\n",
            "WARNING:tika.tika:Failed to see startup log message; retrying...\n",
            "2023-04-23 17:41:44,284 [MainThread  ] [WARNI]  Failed to see startup log message; retrying...\n",
            "WARNING:tika.tika:Failed to see startup log message; retrying...\n"
          ]
        },
        {
          "output_type": "stream",
          "name": "stdout",
          "text": [
            "\n",
            "\n",
            "\n",
            "\n",
            "\n",
            "\n",
            "\n",
            "\n",
            "\n",
            "\n",
            "\n",
            "\n",
            "\n",
            "\n",
            "\n",
            "\n",
            "\n",
            "\n",
            "\n",
            "\n",
            "\n",
            "\n",
            "\n",
            "\n",
            "\n",
            "\n",
            "\n",
            "\n",
            "\n",
            "\n",
            "\n",
            "\n",
            "\n",
            "\n",
            "\n",
            "\n",
            "\n",
            "candidate_042\n",
            "\n",
            "\n",
            "Ryan Nelson\n",
            "F R E S H E R  S O F T W A R E  D E V E L O P E R  \n",
            "\n",
            "Executive Profile\n",
            "\n",
            "I consider myself a team player and ethics\n",
            "maintainer. When it comes to coding I\n",
            "always try to be be well informed about\n",
            "the technology and its application. Would\n",
            "like to join any firm as a software\n",
            "developer in machine learning projects.\n",
            "\n",
            "Other Activities\n",
            "\n",
            "Machine learning - Stanford University\n",
            "SAP Fundamentals - Arjuvo Limited\n",
            "\n",
            "Projects\n",
            "\n",
            "Classification of Cassava Leaves\n",
            "\n",
            "Skills\n",
            "\n",
            "Machine Learning, Software Engineering,\n",
            "Python, Java, SAP,C programming\n",
            "\n",
            "Work Experience\n",
            "\n",
            "Accenture  \n",
            "Software Developer, Apr 2019 - Dec 2020 \n",
            "\n",
            "Worked on multiple projects that dealt with system frame\n",
            "development and solution supply.\n",
            "\n",
            "Education\n",
            "\n",
            "B.Tech Computer Science From JNTU, 2019\n",
            "\n",
            "\n",
            "\n"
          ]
        }
      ]
    },
    {
      "cell_type": "code",
      "source": [
        "parsed_content={}"
      ],
      "metadata": {
        "id": "SJsOxCuwNPj6"
      },
      "execution_count": null,
      "outputs": []
    },
    {
      "cell_type": "code",
      "source": [
        "import re\n",
        "def get_email_addresses(string):\n",
        "    r=re.compile(r'[\\w\\.-]+@[\\w\\.-]+')\n",
        "    return r.findall(string)\n",
        "email=get_email_addresses(text)\n",
        "print(email)\n",
        "parsed_content['E-mail']=email"
      ],
      "metadata": {
        "colab": {
          "base_uri": "https://localhost:8080/"
        },
        "id": "ac_K7F9SNSUi",
        "outputId": "fbb54e46-e3df-45a5-db49-8b3422edf2c2"
      },
      "execution_count": null,
      "outputs": [
        {
          "output_type": "stream",
          "name": "stdout",
          "text": [
            "[]\n"
          ]
        }
      ]
    },
    {
      "cell_type": "code",
      "source": [
        "import re \n",
        "def get_phone_numbers(string):\n",
        "    r = re.compile(r'(\\d{3}[-\\.\\s]??\\d{3}[-\\.\\s]??\\d{4}|\\(\\d{3}\\)\\s*\\d{3}[-\\.\\s]??\\d{4}|\\d{3}[-\\.\\s]??\\d{4})')\n",
        "    phone_numbers=r.findall(string)\n",
        "    return[re.sub(r'\\D','',num)for num in phone_numbers]\n",
        "phone_number= get_phone_numbers(text)\n",
        "if len(phone_number) <= 10:\n",
        "    print(phone_number)\n",
        "    parsed_content['Phone number'] = phone_number"
      ],
      "metadata": {
        "colab": {
          "base_uri": "https://localhost:8080/"
        },
        "id": "fyrYFmttNUXF",
        "outputId": "d8b578ad-8516-411a-e9e8-7f34e99aab30"
      },
      "execution_count": null,
      "outputs": [
        {
          "output_type": "stream",
          "name": "stdout",
          "text": [
            "[]\n"
          ]
        }
      ]
    },
    {
      "cell_type": "code",
      "source": [
        "import spacy\n",
        "nlp = spacy.load('en_core_web_sm')\n",
        "from spacy.matcher import Matcher\n",
        "matcher = Matcher(nlp.vocab)\n",
        "\n",
        "def extract_name(text):\n",
        "   nlp_text = nlp(text)\n",
        "  \n",
        "   # First name and Last name are always Proper Nouns\n",
        "   pattern = [{'POS': 'PROPN'}, {'POS': 'PROPN'}]\n",
        "  \n",
        "   matcher.add('NAME', [pattern], on_match = None)\n",
        "  \n",
        "   matches = matcher(nlp_text)\n",
        "  \n",
        "   for match_id, start, end in matches:\n",
        "       span = nlp_text[start:end]\n",
        "       return span.text\n",
        "\n",
        "name = extract_name(text)\n",
        "print(name)\n",
        "parsed_content['Name'] =  name\n",
        "\n"
      ],
      "metadata": {
        "colab": {
          "base_uri": "https://localhost:8080/"
        },
        "id": "oco8snwTNWDW",
        "outputId": "2fd05a68-613b-43b3-dc42-2357877287f6"
      },
      "execution_count": null,
      "outputs": [
        {
          "output_type": "stream",
          "name": "stdout",
          "text": [
            "Ryan Nelson\n"
          ]
        }
      ]
    },
    {
      "cell_type": "code",
      "source": [
        "Keywords = [\"education\",\n",
        "            \"summary\",\n",
        "            \"accomplishments\",\n",
        "            \"executive profile\",\n",
        "            \"professional profile\",\n",
        "            \"personal profile\",\n",
        "            \"work background\",\n",
        "            \"academic profile\",\n",
        "            \"other activities\",\n",
        "            \"qualifications\",\n",
        "            \"experience\",\n",
        "            \"interests\",\n",
        "            \"skills\",\n",
        "            \"achievements\",\n",
        "            \"publications\",\n",
        "            \"publication\",\n",
        "            \"certifications\",\n",
        "            \"workshops\",\n",
        "            \"projects\",\n",
        "            \"internships\",\n",
        "            \"trainings\",\n",
        "            \"hobbies\",\n",
        "            \"overview\",\n",
        "            \"objective\",\n",
        "            \"position of responsibility\",\n",
        "            \"jobs\"\n",
        "           ]"
      ],
      "metadata": {
        "id": "qPYgpUusNYaM"
      },
      "execution_count": null,
      "outputs": []
    },
    {
      "cell_type": "code",
      "source": [
        "text = text.replace(\"\\n\",\" \")\n",
        "text = text.replace(\"[^a-zA-Z0-9]\", \" \");  \n",
        "re.sub('\\W+','', text)\n",
        "text = text.lower()\n",
        "print(text)"
      ],
      "metadata": {
        "colab": {
          "base_uri": "https://localhost:8080/"
        },
        "id": "CC3liYUzNegu",
        "outputId": "eaa6112d-0790-47ff-9af5-85d2b4776a7b"
      },
      "execution_count": null,
      "outputs": [
        {
          "output_type": "stream",
          "name": "stdout",
          "text": [
            "                                     candidate_042   ryan nelson f r e s h e r  s o f t w a r e  d e v e l o p e r    executive profile  i consider myself a team player and ethics maintainer. when it comes to coding i always try to be be well informed about the technology and its application. would like to join any firm as a software developer in machine learning projects.  other activities  machine learning - stanford university sap fundamentals - arjuvo limited  projects  classification of cassava leaves  skills  machine learning, software engineering, python, java, sap,c programming  work experience  accenture   software developer, apr 2019 - dec 2020   worked on multiple projects that dealt with system frame development and solution supply.  education  b.tech computer science from jntu, 2019   \n"
          ]
        }
      ]
    },
    {
      "cell_type": "code",
      "source": [
        "content = {}\n",
        "indices = []\n",
        "keys = []\n",
        "for key in Keywords:\n",
        "    try:\n",
        "        content[key] = text[text.index(key) + len(key):]\n",
        "        indices.append(text.index(key))\n",
        "        keys.append(key)\n",
        "    except:\n",
        "        pass"
      ],
      "metadata": {
        "id": "KZQqEBS4Ngqn"
      },
      "execution_count": null,
      "outputs": []
    },
    {
      "cell_type": "code",
      "source": [
        "zipped_lists = zip(indices, keys)\n",
        "sorted_pairs = sorted(zipped_lists)\n",
        "sorted_pairs\n",
        "\n",
        "tuples = zip(*sorted_pairs)\n",
        "indices, keys = [ list(tuple) for tuple in  tuples]\n",
        "keys"
      ],
      "metadata": {
        "colab": {
          "base_uri": "https://localhost:8080/"
        },
        "id": "KphtFVVaNjUv",
        "outputId": "5356d98f-1ad0-4d83-9851-e4741435fafc"
      },
      "execution_count": null,
      "outputs": [
        {
          "output_type": "execute_result",
          "data": {
            "text/plain": [
              "['executive profile',\n",
              " 'projects',\n",
              " 'other activities',\n",
              " 'skills',\n",
              " 'experience',\n",
              " 'education']"
            ]
          },
          "metadata": {},
          "execution_count": 10
        }
      ]
    },
    {
      "cell_type": "code",
      "source": [
        "content = []\n",
        "for idx in range(len(indices)):\n",
        "    if idx != len(indices)-1:\n",
        "        content.append(text[indices[idx]: indices[idx+1]])\n",
        "    else:\n",
        "        content.append(text[indices[idx]: ])"
      ],
      "metadata": {
        "id": "wEv7ZEfnNmCY"
      },
      "execution_count": null,
      "outputs": []
    },
    {
      "cell_type": "code",
      "source": [
        "for i in range(len(indices)):\n",
        "    parsed_content[keys[i]] = content[i]  "
      ],
      "metadata": {
        "id": "eCxSj3FbNozx"
      },
      "execution_count": null,
      "outputs": []
    },
    {
      "cell_type": "code",
      "source": [
        "parsed_content"
      ],
      "metadata": {
        "colab": {
          "base_uri": "https://localhost:8080/"
        },
        "id": "TLECD1kUNqn7",
        "outputId": "9071b508-a22b-43bb-83c8-a3f73e51f077"
      },
      "execution_count": null,
      "outputs": [
        {
          "output_type": "execute_result",
          "data": {
            "text/plain": [
              "{'E-mail': [],\n",
              " 'Phone number': [],\n",
              " 'Name': 'Ryan Nelson',\n",
              " 'executive profile': 'executive profile  i consider myself a team player and ethics maintainer. when it comes to coding i always try to be be well informed about the technology and its application. would like to join any firm as a software developer in machine learning ',\n",
              " 'projects': 'projects.  ',\n",
              " 'other activities': 'other activities  machine learning - stanford university sap fundamentals - arjuvo limited  projects  classification of cassava leaves  ',\n",
              " 'skills': 'skills  machine learning, software engineering, python, java, sap,c programming  work ',\n",
              " 'experience': 'experience  accenture   software developer, apr 2019 - dec 2020   worked on multiple projects that dealt with system frame development and solution supply.  ',\n",
              " 'education': 'education  b.tech computer science from jntu, 2019   '}"
            ]
          },
          "metadata": {},
          "execution_count": 13
        }
      ]
    },
    {
      "cell_type": "code",
      "source": [
        "import json\n",
        "with open(\"Parsed_Resume.json\", \"w\") as outfile:\n",
        "    json.dump(parsed_content, outfile)"
      ],
      "metadata": {
        "id": "vKU1tPjHNsRI"
      },
      "execution_count": null,
      "outputs": []
    },
    {
      "cell_type": "code",
      "source": [
        "a_file = open(\"Parsed_Resume.json\", \"r\")\n",
        "a_json = json.load(a_file)\n",
        "pretty_json = json.dumps(a_json, indent=4)\n",
        "a_file.close()\n",
        "print(pretty_json)"
      ],
      "metadata": {
        "colab": {
          "base_uri": "https://localhost:8080/"
        },
        "id": "fdMheRAYNu83",
        "outputId": "f417dc50-f1c4-48c4-be72-b1cd201e177d"
      },
      "execution_count": null,
      "outputs": [
        {
          "output_type": "stream",
          "name": "stdout",
          "text": [
            "{\n",
            "    \"E-mail\": [],\n",
            "    \"Phone number\": [],\n",
            "    \"Name\": \"Ryan Nelson\",\n",
            "    \"executive profile\": \"executive profile  i consider myself a team player and ethics maintainer. when it comes to coding i always try to be be well informed about the technology and its application. would like to join any firm as a software developer in machine learning \",\n",
            "    \"projects\": \"projects.  \",\n",
            "    \"other activities\": \"other activities  machine learning - stanford university sap fundamentals - arjuvo limited  projects  classification of cassava leaves  \",\n",
            "    \"skills\": \"skills  machine learning, software engineering, python, java, sap,c programming  work \",\n",
            "    \"experience\": \"experience  accenture   software developer, apr 2019 - dec 2020   worked on multiple projects that dealt with system frame development and solution supply.  \",\n",
            "    \"education\": \"education  b.tech computer science from jntu, 2019   \"\n",
            "}\n"
          ]
        }
      ]
    },
    {
      "cell_type": "code",
      "source": [],
      "metadata": {
        "id": "aK1zEfRONw7x"
      },
      "execution_count": null,
      "outputs": []
    }
  ]
}